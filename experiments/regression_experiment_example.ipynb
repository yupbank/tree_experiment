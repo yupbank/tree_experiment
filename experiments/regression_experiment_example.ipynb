{
 "cells": [
  {
   "cell_type": "markdown",
   "metadata": {},
   "source": [
    "Try them here [![Open In Colab](https://colab.research.google.com/assets/colab-badge.svg)](https://colab.research.google.com/github/yupbank/tree_experiment/blob/master/experiments/regression_experiment_example.ipynb)"
   ]
  },
  {
   "cell_type": "code",
   "execution_count": 1,
   "metadata": {},
   "outputs": [],
   "source": [
    "import sys\n",
    "sys.path.append('../')\n",
    "import scipy\n",
    "import numpy as np\n",
    "from sklearn.preprocessing import OneHotEncoder, OrdinalEncoder\n",
    "from sklearn.datasets import load_boston\n",
    "import scipy.stats as stats\n",
    "import itertools\n",
    "from bsz.utils import (\n",
    "    bsplitz_method,\n",
    "    fast_skewness_improvements,\n",
    "    fast_variance_improvements,\n",
    ")\n",
    "from bsz.cube_to_zonotope import enumerate_all_points\n"
   ]
  },
  {
   "cell_type": "code",
   "execution_count": 2,
   "metadata": {},
   "outputs": [],
   "source": [
    "def report_regression_comparison(\n",
    "    mean_encoding,\n",
    "    generators,\n",
    "    d,\n",
    "    measure=fast_skewness_improvements,\n",
    "    measure_name=\"skewness\",\n",
    "):\n",
    "    potentials = np.cumsum(generators[np.argsort(mean_encoding)], axis=0)\n",
    "    res = measure(potentials, d)\n",
    "\n",
    "    all_candidates = enumerate_all_points(generators)\n",
    "    new_res = measure(all_candidates, d)\n",
    "\n",
    "    another_potentials, _ = bsplitz_method(generators)\n",
    "    similar_res = measure(another_potentials, d)\n",
    "\n",
    "    print(\"best %s improvement from mean encoding\" % measure_name, np.max(res))\n",
    "    print(\"best %s improvement from greedy enumerating\" % measure_name, np.max(new_res))\n",
    "    print(\n",
    "        \"best %s improvement from smart enumerating\" % measure_name, np.max(similar_res)\n",
    "    )"
   ]
  },
  {
   "cell_type": "code",
   "execution_count": 3,
   "metadata": {},
   "outputs": [
    {
     "name": "stdout",
     "output_type": "stream",
     "text": [
      "best skewness improvement from mean encoding 100.75924213358303\n",
      "best skewness improvement from greedy enumerating 103.60639381029978\n",
      "best skewness improvement from smart enumerating 103.60639381029978\n",
      "best variance improvement from mean encoding 14.918864090329691\n",
      "best variance improvement from greedy enumerating 14.918864090329691\n",
      "best variance improvement from smart enumerating 14.918864090329691\n"
     ]
    },
    {
     "name": "stderr",
     "output_type": "stream",
     "text": [
      "../bsz/utils.py:24: RuntimeWarning: divide by zero encountered in true_divide\n",
      "  e = 3 * b / a * c / a - 2 * (b / a) ** 3\n",
      "../bsz/utils.py:24: RuntimeWarning: invalid value encountered in multiply\n",
      "  e = 3 * b / a * c / a - 2 * (b / a) ** 3\n",
      "../bsz/utils.py:24: RuntimeWarning: invalid value encountered in true_divide\n",
      "  e = 3 * b / a * c / a - 2 * (b / a) ** 3\n",
      "../bsz/utils.py:33: RuntimeWarning: divide by zero encountered in true_divide\n",
      "  e = np.square(b / a)\n",
      "../bsz/utils.py:33: RuntimeWarning: invalid value encountered in true_divide\n",
      "  e = np.square(b / a)\n"
     ]
    }
   ],
   "source": [
    "    data = load_boston()\n",
    "    x = data[\"data\"][:, 8]\n",
    "    y = data[\"target\"]\n",
    "    d = np.array([y.sum(), (y ** 2).sum(), y.shape[0]])\n",
    "    hx = OneHotEncoder(sparse=False, categories=\"auto\").fit_transform(x[:, np.newaxis])\n",
    "\n",
    "    generators = np.vstack([hx.T.dot(y), hx.T.dot(y ** 2), hx.sum(axis=0)]).T\n",
    "\n",
    "    mean_encoding = generators[:, 0] / generators[:, -1]\n",
    "\n",
    "    report_regression_comparison(mean_encoding, generators, d)\n",
    "    report_regression_comparison(\n",
    "        mean_encoding, generators, d, fast_variance_improvements, \"variance\"\n",
    "    )"
   ]
  },
  {
   "cell_type": "code",
   "execution_count": null,
   "metadata": {},
   "outputs": [],
   "source": []
  }
 ],
 "metadata": {
  "kernelspec": {
   "display_name": "Python 3",
   "language": "python",
   "name": "python3"
  },
  "language_info": {
   "codemirror_mode": {
    "name": "ipython",
    "version": 3
   },
   "file_extension": ".py",
   "mimetype": "text/x-python",
   "name": "python",
   "nbconvert_exporter": "python",
   "pygments_lexer": "ipython3",
   "version": "3.7.6"
  }
 },
 "nbformat": 4,
 "nbformat_minor": 2
}
